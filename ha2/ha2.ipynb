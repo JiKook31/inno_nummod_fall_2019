{
 "cells": [
  {
   "cell_type": "code",
   "execution_count": null,
   "metadata": {},
   "outputs": [],
   "source": [
    "import sympy as sp\n",
    "import numpy as np\n",
    "import matplotlib.pyplot as plt"
   ]
  },
  {
   "cell_type": "markdown",
   "metadata": {},
   "source": [
    "# Numerical Modeling Assignment 2.1\n",
    "### Ilaova Alina, BS4-DS2"
   ]
  },
  {
   "cell_type": "markdown",
   "metadata": {},
   "source": [
    "### 1. Formulate the statement of the interpolation problem with Cubic Spline [mathematical formula]"
   ]
  },
  {
   "cell_type": "markdown",
   "metadata": {},
   "source": [
    "$ S_3(x) = \\bigcup\\limits_{i=0}^{N-1} S_{3, i}(x) \\in C_2[a, b] $"
   ]
  },
  {
   "cell_type": "markdown",
   "metadata": {},
   "source": [
    "### 2. Formulate the functional and differential compatibility conditions [mathematical formula]"
   ]
  },
  {
   "cell_type": "markdown",
   "metadata": {},
   "source": [
    "Compatibility conditions:\n",
    "* **functional:**\n",
    "### $\\delta S_{3, i}(x)|_{x=x_i} = S_{3, i}(x_i) - f(x_i) = 0$\n",
    "### $\\delta S_{3, i}(x)|_{x=x_{i+1}} = S_{3, i}(x_{i+1}) - f(x_{i+1}) = 0$\n",
    "* **differential:**\n",
    "### $\\delta S_{3, i}^{''}(x)|_{x=x_i} = S_{3, i}^{''}(x_i) - f^{''}(x_i) = 0$\n",
    "### $\\delta S_{3, i}^{''}(x)|_{x=x_{i+1}} = S_{3, i}^{''}(x_{i+1}) - f^{''}(x_{i+1}) = 0$"
   ]
  },
  {
   "cell_type": "markdown",
   "metadata": {},
   "source": [
    "### 3. Formulate stitching conditions [mathematical formula]"
   ]
  },
  {
   "cell_type": "markdown",
   "metadata": {},
   "source": [
    "Stitching condition:\n",
    "### $S_{3, i-1}^{(p)}(x)|_{x=x_i} = S_{3, i}^{(p)}(x)|_{x=x_i}$"
   ]
  },
  {
   "cell_type": "markdown",
   "metadata": {},
   "source": [
    "### 4. Justify why these conditions provide you with the required smoothness [thesis text, no more than 500 characters]"
   ]
  },
  {
   "cell_type": "markdown",
   "metadata": {},
   "source": [
    "We require not only the equality of function and spline at points, but also of their first and second derivatives and their neighboor points, which quarantees us that there will be no \"sharp\" parts of spline and it won't be splitted.\n",
    "> Did I just write something stupid and unrelatable? If not, is it enough or I should explain it in more details?"
   ]
  },
  {
   "cell_type": "markdown",
   "metadata": {},
   "source": [
    "### 5. Derive dependency formula: the dependence of the second derivatives at the grid nodes on the increment of the function (the function values difference on the grid nodes). [Mathematical formulas derivation. Detailed, with clear transitions]"
   ]
  },
  {
   "cell_type": "markdown",
   "metadata": {},
   "source": [
    "We need to find polynoms: \\\n",
    "$S_{3, i}(x) = a_{0, i} + a_{1, i}(x - x_i) + a_{2, i}(x - x_i)^2 + a_{3, i}(x - x_i)^3$\n",
    "\n",
    "And substituting this polynom into compatibility conditions, we get: \\\n",
    "$S_{3, i}(x) = f_i + (\\frac{1}{h_{i+1}}\\Delta f_i - \\frac{h_{i+1}}{2}m_i - \\frac{h_{i+1}}{6}\\Delta m_i)(x-x_i) + \\frac{m_i}{2}(x-x_i)^2 + \\frac{1}{6h_{i+1}}\\Delta m_i(x-x_i)^3,$ \\\n",
    "where $h_{i+1} = x_{i+1} - x_i, \\Delta f_i = f_{i+1} - f_i, \\Delta m_i = m_{i+1} - m_i$ \n",
    "\n",
    "$S_{3, i}' = S_{3, i-1}'$ \n",
    "\n",
    "$\\frac{1}{h_{i+1}}\\Delta f_i - \\frac{h_{i+1}}{2}m_i - \\frac{h_{i+1}}{6}\\Delta m_i + m_i(x-x_i) + \\frac{1}{2h_{i+1}}\\Delta m_i (x-x_i)^2 = \\frac{1}{h_i}\\Delta f_{i-1} - \\frac{h_i}{2}m_{i-1} - \\frac{h_i}{6}\\Delta m_{i-1} + m_{i-1}(x-x_{i-1}) + \\frac{1}{2h_i}\\Delta m_{i-1}(x-x_{i-1})^2 $\n",
    "### $\\frac{\\Delta f_i}{h_{i+1}} - \\frac{\\Delta f_{i-1}}{h_i} = \\frac{h_i}{6}m_{i-1} + \\frac{h_i + h_{i+1}}{3}m_i + \\frac{h_{i+1}}{6}m_{i+1}$\n",
    "> Are those transition steps enough or I need to add something else between them?"
   ]
  },
  {
   "cell_type": "markdown",
   "metadata": {},
   "source": [
    "### 6. Create a system of equations using this formula [Matrix representation. Mathematical formulas]"
   ]
  },
  {
   "cell_type": "markdown",
   "metadata": {},
   "source": [
    "Matrix representation:\n",
    "$$\n",
    "\\begin{bmatrix}\n",
    "    \\frac{h_1+h_2}{3} & \\frac{h_2}{6}     & 0                 & \\dots & 0     & 0 \n",
    "    & \\frac{\\Delta f_1}{h_2} - \\frac{\\Delta f_0}{h_1} \\\\\n",
    "    \\frac{h_2}{6}     & \\frac{h_2+h_3}{3} & \\frac{h_2}{6}     & \\dots & 0     & 0   \n",
    "    & \\frac{\\Delta f_2}{h_3} - \\frac{\\Delta f_1}{h_2}\\\\\n",
    "    0                 & \\frac{h_3}{6}     & \\frac{h_3+h_4}{3} & \\dots & 0     & 0    \n",
    "    & \\frac{\\Delta f_3}{h_4} - \\frac{\\Delta f_2}{h_3} \\\\\n",
    "    \\dots             & \\dots             & \\dots             & \\dots & \\dots & \\dots & \\dots \\\\\n",
    "    0                 & 0                 & 0                 & \\dots & \\frac{h_n}{6} & \\frac{h_{n-1}+h_n}{3}\n",
    "    & \\frac{\\Delta f_{n-1}}{h_n} - \\frac{\\Delta f_{n-2}}{h_{n-1}}\n",
    "\\end{bmatrix}$$"
   ]
  },
  {
   "cell_type": "markdown",
   "metadata": {},
   "source": [
    "### 7. Explain what is an unknown variable in this system. whether the system is closed with respect to an unknown variable. What is missing for closure. [Text, no more than 200 characters]"
   ]
  },
  {
   "cell_type": "markdown",
   "metadata": {},
   "source": [
    "This system is not closed with respect to $m_i$. We need equations for $m_0$ and $m_n$. There are several methods for that, for example, we can choose them to be:\n",
    "$m_0 = m_n = 0$."
   ]
  },
  {
   "cell_type": "markdown",
   "metadata": {},
   "source": [
    "### 8. Bring this matrix to the appropriate form to use the Tridiagonal matrix algorithm [Mathematical derivation. Use Gauss Elimination]"
   ]
  },
  {
   "cell_type": "markdown",
   "metadata": {},
   "source": [
    "$$\n",
    "\\begin{bmatrix}\n",
    "    1     & -P_1  & 0     & 0     & \\dots & Q_1   \\\\\n",
    "    0     & 1     & -P_2  & 0     & \\dots & Q_2   \\\\\n",
    "    0     & 0     & 1     & -P_3  & \\dots & Q_3   \\\\\n",
    "    \\dots & \\dots & \\dots & \\dots & \\dots & \\dots \\\\\n",
    "    0     & 0     & 0     & 1     & \\dots & Q_n   \\\\\n",
    "\\end{bmatrix}$$\n",
    "> Do I really need to transform the first matrix to this form?.."
   ]
  },
  {
   "cell_type": "markdown",
   "metadata": {},
   "source": [
    "### 9. Derive formulas of direct pass and reverse pass of Tridiagonal matrix algorithm [Mathematical formals]"
   ]
  },
  {
   "cell_type": "markdown",
   "metadata": {},
   "source": [
    "**Forward pass:**\n",
    "### $P_i = \\frac{\\gamma_i}{\\beta_i - \\alpha_i P_{i-1}}, P_1 = \\frac{\\gamma_1}{\\beta_1}$\n",
    "### $Q_i = \\frac{\\alpha_i Q_{i-1} - \\delta_i}{\\beta_i - \\alpha_i P_{i-1}}, Q_1 = -\\frac{\\delta_1}{\\beta_1}$\n",
    "**Backward pass:**\n",
    "### $x_i = P_i x_{i+1} + Q_i, x_n = \\frac{\\alpha_n Q_{n-1} - \\delta_n}{\\beta_n - \\alpha_n P_{n-1}}$"
   ]
  },
  {
   "cell_type": "markdown",
   "metadata": {},
   "source": [
    "### 10. Implement code prototype of the future algorithm implementation. Classes/methods (if you use OOP), functions. The final implementation (on language chosen by you) should not differ from the functions declared in the prototype. [Python code]"
   ]
  },
  {
   "cell_type": "code",
   "execution_count": null,
   "metadata": {},
   "outputs": [],
   "source": [
    "### YOUR TEXT/CODE HERE\n",
    "\n",
    "# TO DO\n",
    "\n",
    "\n",
    "\n",
    "\n",
    "\n",
    "\n"
   ]
  },
  {
   "cell_type": "markdown",
   "metadata": {},
   "source": [
    "### 11. Derive formula of Cubic Spline method error [Mathematical formulas]"
   ]
  },
  {
   "cell_type": "markdown",
   "metadata": {},
   "source": [
    "> Absolutely not sure about this one\n",
    "\n",
    "**Cubic spline error:** \\\n",
    "$max|f^p - S_3^p| \\leqslant \\mu_4 h^{4-p}$"
   ]
  },
  {
   "cell_type": "markdown",
   "metadata": {},
   "source": [
    "### 12. Rate the complexity of the algorithm [Text, and rate in terms of big O, no more than 100 characters]"
   ]
  },
  {
   "cell_type": "markdown",
   "metadata": {},
   "source": [
    "> u menya lapki, pomogite :c"
   ]
  },
  {
   "cell_type": "markdown",
   "metadata": {},
   "source": [
    "### Congrats!"
   ]
  }
 ],
 "metadata": {
  "kernelspec": {
   "display_name": "Python 3",
   "language": "python",
   "name": "python3"
  },
  "language_info": {
   "codemirror_mode": {
    "name": "ipython",
    "version": 3
   },
   "file_extension": ".py",
   "mimetype": "text/x-python",
   "name": "python",
   "nbconvert_exporter": "python",
   "pygments_lexer": "ipython3",
   "version": "3.6.4"
  }
 },
 "nbformat": 4,
 "nbformat_minor": 2
}
